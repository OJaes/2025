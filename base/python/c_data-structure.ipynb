{
 "cells": [
  {
   "cell_type": "markdown",
   "metadata": {},
   "source": [
    "### 리스트\n",
    "순서가 존재하고 중복을 허용하는 자료 구조형  \n",
    "파이썬에는 변수의 타입 존재하지 않아 리스트의 타입이 고정되어 있지 않음  \n",
    "리스트 표현 : [요소1, 요소2, 요소3]"
   ]
  },
  {
   "cell_type": "code",
   "execution_count": 8,
   "metadata": {},
   "outputs": [
    {
     "name": "stdout",
     "output_type": "stream",
     "text": [
      "[True, 1, 1.23, '문자열']\n",
      "1\n",
      "2\n",
      "3\n",
      "4\n",
      "5\n",
      "6\n"
     ]
    }
   ],
   "source": [
    "array = [1,2,3,4,5,6]\n",
    "array2 = [True, 1, 1.23, '문자열']\n",
    "print(array2)\n",
    "\n",
    "for i in array:\n",
    "    print(i)"
   ]
  },
  {
   "cell_type": "markdown",
   "metadata": {},
   "source": [
    "##### 리스트의 길이\n",
    "```python\n",
    "len(리스트)\n",
    "```"
   ]
  },
  {
   "cell_type": "code",
   "execution_count": 10,
   "metadata": {},
   "outputs": [
    {
     "data": {
      "text/plain": [
       "6"
      ]
     },
     "execution_count": 10,
     "metadata": {},
     "output_type": "execute_result"
    }
   ],
   "source": [
    "len(array)"
   ]
  },
  {
   "cell_type": "code",
   "execution_count": 12,
   "metadata": {},
   "outputs": [
    {
     "name": "stdout",
     "output_type": "stream",
     "text": [
      "index: 0 / item : 1\n",
      "index: 1 / item : 2\n",
      "index: 2 / item : 3\n",
      "index: 3 / item : 4\n",
      "index: 4 / item : 5\n",
      "index: 5 / item : 6\n"
     ]
    }
   ],
   "source": [
    "for index, item in enumerate(array):\n",
    "    print(f'index: {index} / item : {item}')"
   ]
  },
  {
   "cell_type": "markdown",
   "metadata": {},
   "source": [
    "##### 리스트에 요소 추가하기\n",
    "```python\n",
    "리스트.append(요소) # 마지막 인덱스에 요소를 추가\n",
    "리스트.insert(인덱스, 요소) # 특정 인덱스에 요소를 삽입\n",
    "리스트.extend(리스트) # 리스트를 확장\n",
    "```"
   ]
  },
  {
   "cell_type": "code",
   "execution_count": 37,
   "metadata": {},
   "outputs": [
    {
     "data": {
      "text/plain": [
       "[1, 5, 6, 9, 13, 1, 5, 6, 9, 13]"
      ]
     },
     "execution_count": 37,
     "metadata": {},
     "output_type": "execute_result"
    }
   ],
   "source": [
    "numbers = [1,5,9]\n",
    "numbers.append(13)\n",
    "numbers.insert(2,6)\n",
    "numbers.extend(numbers)\n",
    "numbers"
   ]
  },
  {
   "cell_type": "markdown",
   "metadata": {},
   "source": [
    "##### 리스트에서 요소 삭제\n",
    "```python\n",
    "del 요소 # 요소를 메모리 상에서 제거\n",
    "pop() # 마지막 요소를 반환하고 제거\n",
    "pop(인덱스) # 특정 인덱스 요소를 반환하고 제거\n",
    "remove(요소값) # 지정한 요소값을 제거 (첫번째로 만난 요소만 제거)\n",
    "```"
   ]
  },
  {
   "cell_type": "code",
   "execution_count": 35,
   "metadata": {},
   "outputs": [
    {
     "name": "stdout",
     "output_type": "stream",
     "text": [
      "[6, 9, 1, 6, 9, 13]\n"
     ]
    }
   ],
   "source": [
    "print(numbers)\n",
    "del numbers[0]\n",
    "numbers.pop(3)\n",
    "numbers.remove(13)"
   ]
  },
  {
   "cell_type": "markdown",
   "metadata": {},
   "source": [
    "##### 리스트 슬라이싱\n",
    "```python\n",
    "리스트[시작인덱스:종료인덱스]\n",
    "```"
   ]
  },
  {
   "cell_type": "code",
   "execution_count": 41,
   "metadata": {},
   "outputs": [
    {
     "name": "stdout",
     "output_type": "stream",
     "text": [
      "[1, 5, 6, 9, 13, 1, 5, 6, 9, 13]\n",
      "[6, 9, 13]\n",
      "[1, 5, 6, 9, 13]\n"
     ]
    }
   ],
   "source": [
    "print(numbers)\n",
    "print(numbers[2:5])\n",
    "print(numbers[:5])"
   ]
  },
  {
   "cell_type": "markdown",
   "metadata": {},
   "source": [
    "##### 리스트의 복수 할당\n",
    "```python\n",
    "변수1, 변수2 = [요소1, 요소2] # 각 변수에 요소를 직접 할당\n",
    "```"
   ]
  },
  {
   "cell_type": "code",
   "execution_count": 44,
   "metadata": {},
   "outputs": [
    {
     "name": "stdout",
     "output_type": "stream",
     "text": [
      "apple banana cacao\n"
     ]
    }
   ],
   "source": [
    "fruits = ['apple','banana','cacao']\n",
    "f1, f2, f3 = fruits\n",
    "print(f1, f2, f3)"
   ]
  },
  {
   "cell_type": "markdown",
   "metadata": {},
   "source": [
    "### 딕셔너리\n",
    "Key, Value를 하나의 쌍으로 관리하는 자료 구조  \n",
    "순서가 존재하지 않고 Key는 중복을 허용하지 않으며, Value는 중복될 수 있음  \n",
    "딕셔너리변수 = { key1: value1, key2: value2, ... }  \n",
    "Key와 Value는 어떠한 형태의 데이터 타입이든 가질 수 있음"
   ]
  },
  {
   "cell_type": "code",
   "execution_count": 48,
   "metadata": {},
   "outputs": [
    {
     "data": {
      "text/plain": [
       "{'apple': '사과', 'banana': '바나나', 'cacao': '카카오'}"
      ]
     },
     "execution_count": 48,
     "metadata": {},
     "output_type": "execute_result"
    }
   ],
   "source": [
    "fruits = {\n",
    "    'apple' : '사과',\n",
    "    'banana' : '바나나',\n",
    "    'cacao' : '카카오'\n",
    "}\n",
    "fruits"
   ]
  },
  {
   "cell_type": "code",
   "execution_count": 50,
   "metadata": {},
   "outputs": [
    {
     "data": {
      "text/plain": [
       "'사과'"
      ]
     },
     "execution_count": 50,
     "metadata": {},
     "output_type": "execute_result"
    }
   ],
   "source": [
    "fruits['apple']"
   ]
  },
  {
   "cell_type": "code",
   "execution_count": 51,
   "metadata": {},
   "outputs": [
    {
     "data": {
      "text/plain": [
       "{'apple': '사과', 'banana': '빠나나', 'cacao': '카카오'}"
      ]
     },
     "execution_count": 51,
     "metadata": {},
     "output_type": "execute_result"
    }
   ],
   "source": [
    "fruits['banana'] = '빠나나'\n",
    "fruits"
   ]
  },
  {
   "cell_type": "markdown",
   "metadata": {},
   "source": [
    "##### 딕셔너리에 요소 추가 및 수정\n",
    "```python\n",
    "딕셔너리[추가할키] = 추가할값\n",
    "딕셔너리[수정할키] = 수정할값\n",
    "딕셔너리.update(딕셔너리) \n",
    "```"
   ]
  },
  {
   "cell_type": "code",
   "execution_count": 56,
   "metadata": {},
   "outputs": [],
   "source": [
    "fruits['damson'] = '자두'\n"
   ]
  },
  {
   "cell_type": "code",
   "execution_count": 59,
   "metadata": {},
   "outputs": [],
   "source": [
    "others = {\n",
    "    'apple' : '링고',\n",
    "    'eggfruit' : '에그프루트'\n",
    "}\n",
    "fruits.update(others)"
   ]
  },
  {
   "cell_type": "markdown",
   "metadata": {},
   "source": [
    "##### 딕셔너리에서 요소 삭제\n",
    "```python\n",
    "del 요소\n",
    "pop(키)\n",
    "```"
   ]
  },
  {
   "cell_type": "code",
   "execution_count": 60,
   "metadata": {},
   "outputs": [],
   "source": [
    "del fruits['eggfruit']"
   ]
  },
  {
   "cell_type": "markdown",
   "metadata": {},
   "source": [
    "##### 딕셔너리를 반복문에 사용\n",
    "```python\n",
    "for key in 딕셔너리.keys():\n",
    "    반복 구문\n",
    "\n",
    "for value in 딕셔너리.values():\n",
    "    반복 구문\n",
    "\n",
    "for key, value in 딕셔너리.items():\n",
    "    반복 구문\n",
    "```"
   ]
  },
  {
   "cell_type": "code",
   "execution_count": 63,
   "metadata": {},
   "outputs": [
    {
     "name": "stdout",
     "output_type": "stream",
     "text": [
      "key : apple\n",
      "key : banana\n",
      "key : cacao\n",
      "key : damson\n"
     ]
    }
   ],
   "source": [
    "for key in fruits.keys():\n",
    "    print(f'key : {key}')"
   ]
  },
  {
   "cell_type": "code",
   "execution_count": 65,
   "metadata": {},
   "outputs": [
    {
     "name": "stdout",
     "output_type": "stream",
     "text": [
      "values : 링고\n",
      "values : 빠나나\n",
      "values : 카카오\n",
      "values : 자두\n"
     ]
    }
   ],
   "source": [
    "for value in fruits.values():\n",
    "    print(f'values : {value}')"
   ]
  },
  {
   "cell_type": "code",
   "execution_count": 66,
   "metadata": {},
   "outputs": [
    {
     "name": "stdout",
     "output_type": "stream",
     "text": [
      "item : ('apple', '링고')\n",
      "item : ('banana', '빠나나')\n",
      "item : ('cacao', '카카오')\n",
      "item : ('damson', '자두')\n"
     ]
    }
   ],
   "source": [
    "for item in fruits.items():\n",
    "    print(f'item : {item}')"
   ]
  }
 ],
 "metadata": {
  "kernelspec": {
   "display_name": "Python 3",
   "language": "python",
   "name": "python3"
  },
  "language_info": {
   "codemirror_mode": {
    "name": "ipython",
    "version": 3
   },
   "file_extension": ".py",
   "mimetype": "text/x-python",
   "name": "python",
   "nbconvert_exporter": "python",
   "pygments_lexer": "ipython3",
   "version": "3.13.1"
  }
 },
 "nbformat": 4,
 "nbformat_minor": 2
}
